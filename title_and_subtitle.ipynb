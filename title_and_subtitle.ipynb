import seaborn as sns
import matplotlib.pyplot as plt

ax.update_layout('Number of Orders by States' + 
                 '<br>' + 
                 '<span style="font-size: 12px;">2019-2021 </span>')
